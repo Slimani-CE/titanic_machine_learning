{
  "nbformat": 4,
  "nbformat_minor": 0,
  "metadata": {
    "colab": {
      "provenance": [],
      "collapsed_sections": [
        "xYJTuWHHvoTn"
      ],
      "private_outputs": true,
      "authorship_tag": "ABX9TyM+1jKoPIVlywbXQjuuP96w",
      "include_colab_link": true
    },
    "kernelspec": {
      "name": "python3",
      "display_name": "Python 3"
    },
    "language_info": {
      "name": "python"
    }
  },
  "cells": [
    {
      "cell_type": "markdown",
      "metadata": {
        "id": "view-in-github",
        "colab_type": "text"
      },
      "source": [
        "<a href=\"https://colab.research.google.com/github/Slimani-CE/titanic_machine_learning/blob/main/Predict_survival_on_the_Titanic.ipynb\" target=\"_parent\"><img src=\"https://colab.research.google.com/assets/colab-badge.svg\" alt=\"Open In Colab\"/></a>"
      ]
    },
    {
      "cell_type": "markdown",
      "source": [
        "## Importing the libraries"
      ],
      "metadata": {
        "id": "xYJTuWHHvoTn"
      }
    },
    {
      "cell_type": "code",
      "execution_count": null,
      "metadata": {
        "id": "y8BnBhcVvchd"
      },
      "outputs": [],
      "source": [
        "import numpy as np\n",
        "import matplotlib.pyplot as plt\n",
        "import seaborn as sb\n",
        "import pandas as pd\n",
        "from sklearn.preprocessing import StandardScaler\n",
        "from sklearn.model_selection import train_test_split\n",
        "from sklearn.linear_model import LogisticRegression\n",
        "from sklearn.ensemble import RandomForestClassifier\n",
        "from sklearn.metrics import confusion_matrix, accuracy_score"
      ]
    },
    {
      "cell_type": "markdown",
      "source": [
        "## Importing the Dataset"
      ],
      "metadata": {
        "id": "Qf76CuyrvxL7"
      }
    },
    {
      "cell_type": "code",
      "source": [
        "dataset = pd.read_csv('train.csv')\n",
        "testset = pd.read_csv('test.csv')\n",
        "test_ids = testset['PassengerId']"
      ],
      "metadata": {
        "id": "_2DdB3lDvzbs"
      },
      "execution_count": null,
      "outputs": []
    },
    {
      "cell_type": "code",
      "source": [
        "testset.info()"
      ],
      "metadata": {
        "id": "YNy0ASc-uyph"
      },
      "execution_count": null,
      "outputs": []
    },
    {
      "cell_type": "code",
      "source": [
        "dataset"
      ],
      "metadata": {
        "id": "QKqlfcYW9gJV"
      },
      "execution_count": null,
      "outputs": []
    },
    {
      "cell_type": "code",
      "source": [
        "dataset.shape"
      ],
      "metadata": {
        "id": "KwaWAc3BEOkh"
      },
      "execution_count": null,
      "outputs": []
    },
    {
      "cell_type": "markdown",
      "source": [
        "## Data analyse"
      ],
      "metadata": {
        "id": "MIr11-TfFEp6"
      }
    },
    {
      "cell_type": "code",
      "source": [
        "# Categorical & Numerical columns\n",
        "all_cols = dataset.columns.tolist()\n",
        "cat_cols = dataset.select_dtypes(include = ['object']).columns.tolist()\n",
        "num_cols = [col for col in all_cols if col not in cat_cols]\n",
        "print(f'All columns        : {all_cols}')\n",
        "print(f'Categorical columns: {cat_cols}')\n",
        "print(f'Numerical Columns  : {num_cols}')"
      ],
      "metadata": {
        "id": "p2lmUJRtFCt9"
      },
      "execution_count": null,
      "outputs": []
    },
    {
      "cell_type": "code",
      "source": [
        "# sb.pairplot(data = dataset, hue = 'Survived')"
      ],
      "metadata": {
        "id": "Df0bSleMFYLE"
      },
      "execution_count": null,
      "outputs": []
    },
    {
      "cell_type": "code",
      "source": [
        "# sb.heatmap(dataset.corr() ,annot = True)"
      ],
      "metadata": {
        "id": "jnnWktmlJBpV"
      },
      "execution_count": null,
      "outputs": []
    },
    {
      "cell_type": "markdown",
      "source": [
        "### Number of classes in each categorical column"
      ],
      "metadata": {
        "id": "hTCxRlfMOH86"
      }
    },
    {
      "cell_type": "code",
      "source": [
        "# Number of available values and Number of classes in each column\n",
        "for col in all_cols:\n",
        "  all_col_count = dataset[col].shape[0]\n",
        "  available_count = dataset[col].count()\n",
        "  classes_number = len(dataset[col].unique())\n",
        "  print(f'Column name : {col:15} | Column length: {all_col_count} | Available values : {available_count} | Number of classes : {classes_number - (1 if all_col_count - available_count != 0 else 0)}')"
      ],
      "metadata": {
        "id": "cKg45s-ZF7um"
      },
      "execution_count": null,
      "outputs": []
    },
    {
      "cell_type": "code",
      "source": [
        "# Number of values of each category in 'Embarked' column\n",
        "dataset['Parch'].value_counts()"
      ],
      "metadata": {
        "id": "VbiFWEqiWEcQ"
      },
      "execution_count": null,
      "outputs": []
    },
    {
      "cell_type": "code",
      "source": [
        "cols_to_drop = ['Name', 'PassengerId', 'Ticket', 'Cabin', 'Embarked']"
      ],
      "metadata": {
        "id": "sj2hTq3mPUIy"
      },
      "execution_count": null,
      "outputs": []
    },
    {
      "cell_type": "markdown",
      "source": [
        "## Data preprocessing"
      ],
      "metadata": {
        "id": "wehGkaENS6EX"
      }
    },
    {
      "cell_type": "markdown",
      "source": [
        "### Drop columns"
      ],
      "metadata": {
        "id": "hR7jP86AThGQ"
      }
    },
    {
      "cell_type": "code",
      "source": [
        "dataset = dataset.drop(columns = cols_to_drop, axis = 1)\n",
        "testset = testset.drop(columns = cols_to_drop, axis = 1)"
      ],
      "metadata": {
        "id": "5Ea2kqrqRi3Q"
      },
      "execution_count": null,
      "outputs": []
    },
    {
      "cell_type": "code",
      "source": [
        "testset.info()"
      ],
      "metadata": {
        "id": "luLPL3muTQCq"
      },
      "execution_count": null,
      "outputs": []
    },
    {
      "cell_type": "markdown",
      "source": [
        "### Taking care of missing values"
      ],
      "metadata": {
        "id": "KszHoDrNTj04"
      }
    },
    {
      "cell_type": "code",
      "source": [
        "dataset.info()"
      ],
      "metadata": {
        "id": "eaYwDg7tTdsq"
      },
      "execution_count": null,
      "outputs": []
    },
    {
      "cell_type": "code",
      "source": [
        "# Drop the 'Age' rows with missing values\n",
        "dataset.dropna(inplace = True)\n",
        "\n",
        "mean = (dataset['Age'].mean() + testset['Age'].mean()) / 2\n",
        "max_occ = \n",
        "\n",
        "# The same for the testset\n",
        "# mean = testset['Age'].mean()\n",
        "testset['Age'] = testset['Age'].fillna(mean)\n",
        "testset['Fare'] = testset['Fare'].fillna(testset['Fare'].mean())"
      ],
      "metadata": {
        "id": "XYFb3T3ATql3"
      },
      "execution_count": null,
      "outputs": []
    },
    {
      "cell_type": "code",
      "source": [
        "dataset.info()"
      ],
      "metadata": {
        "id": "27FH4qGdUhC7"
      },
      "execution_count": null,
      "outputs": []
    },
    {
      "cell_type": "code",
      "source": [
        "testset.info()"
      ],
      "metadata": {
        "id": "vldqhi1Cvl8B"
      },
      "execution_count": null,
      "outputs": []
    },
    {
      "cell_type": "markdown",
      "source": [
        "### Encoding categorical values"
      ],
      "metadata": {
        "id": "EOwBLzYWYU2r"
      }
    },
    {
      "cell_type": "code",
      "source": [
        "dataset = pd.get_dummies(data = dataset)\n",
        "testset = pd.get_dummies(data = testset)"
      ],
      "metadata": {
        "id": "gGQVBx0vX4qx"
      },
      "execution_count": null,
      "outputs": []
    },
    {
      "cell_type": "markdown",
      "source": [
        "### Change Pclass values 1 -> 3, 3 -> 1"
      ],
      "metadata": {
        "id": "1LAuPN_IrmUr"
      }
    },
    {
      "cell_type": "code",
      "source": [
        "dataset['Pclass'].replace({1: 3, 3: 1}, inplace = True)\n",
        "testset['Pclass'].replace({1: 3, 3: 1}, inplace = True)"
      ],
      "metadata": {
        "id": "siqDCqfJrflm"
      },
      "execution_count": null,
      "outputs": []
    },
    {
      "cell_type": "markdown",
      "source": [
        "### Split feature matrix and target column"
      ],
      "metadata": {
        "id": "Sk-yKToSYoEq"
      }
    },
    {
      "cell_type": "code",
      "source": [
        "X = dataset.drop(columns = ['Survived'], axis = 1)\n",
        "y = dataset['Survived']"
      ],
      "metadata": {
        "id": "_IxCF-D8YfFJ"
      },
      "execution_count": null,
      "outputs": []
    },
    {
      "cell_type": "markdown",
      "source": [
        "## Logistic regression"
      ],
      "metadata": {
        "id": "DFXh5lMmdN8q"
      }
    },
    {
      "cell_type": "markdown",
      "source": [
        "### Splitting data into training and test set"
      ],
      "metadata": {
        "id": "d41OlbQLd3H-"
      }
    },
    {
      "cell_type": "code",
      "source": [
        "X_train, X_test, y_train, y_test = train_test_split(X, y, stratify = y, test_size = 0.2, random_state = 42)"
      ],
      "metadata": {
        "id": "l1tNqNykd2hc"
      },
      "execution_count": null,
      "outputs": []
    },
    {
      "cell_type": "markdown",
      "source": [
        "### Feature scaling"
      ],
      "metadata": {
        "id": "M2iaO6UqdRkv"
      }
    },
    {
      "cell_type": "code",
      "source": [
        "scaler = StandardScaler()\n",
        "scaler.fit(X_train)\n",
        "X_train = scaler.transform(X_train)\n",
        "X_test = scaler.transform(X_test)"
      ],
      "metadata": {
        "id": "KCwfFgs1ZjN_"
      },
      "execution_count": null,
      "outputs": []
    },
    {
      "cell_type": "markdown",
      "source": [
        "### Training the Logistic Regression model on the Training set"
      ],
      "metadata": {
        "id": "p4TomOAIe6l-"
      }
    },
    {
      "cell_type": "code",
      "source": [
        "classifier = LogisticRegression(random_state = 42)\n",
        "classifier.fit(X_train, y_train)"
      ],
      "metadata": {
        "id": "h7KeaGGOfB0C"
      },
      "execution_count": null,
      "outputs": []
    },
    {
      "cell_type": "markdown",
      "source": [
        "### Evaluate the model on the test set"
      ],
      "metadata": {
        "id": "CfldtfxcfudV"
      }
    },
    {
      "cell_type": "markdown",
      "source": [
        "making predections"
      ],
      "metadata": {
        "id": "mR-rt_0ngDIq"
      }
    },
    {
      "cell_type": "code",
      "source": [
        "y_pred = classifier.predict(X_test)"
      ],
      "metadata": {
        "id": "K4sla8nSgGzD"
      },
      "execution_count": null,
      "outputs": []
    },
    {
      "cell_type": "markdown",
      "source": [
        "Making the Confusion Matrix"
      ],
      "metadata": {
        "id": "8vBh0DqCf6YZ"
      }
    },
    {
      "cell_type": "code",
      "source": [
        "cm = confusion_matrix(y_test, y_pred)\n",
        "print(cm)"
      ],
      "metadata": {
        "id": "uloTABmafxuy"
      },
      "execution_count": null,
      "outputs": []
    },
    {
      "cell_type": "markdown",
      "source": [
        "Calculating the score"
      ],
      "metadata": {
        "id": "Fu7gJprHgh6u"
      }
    },
    {
      "cell_type": "code",
      "source": [
        "score = accuracy_score(y_pred, y_test)\n",
        "print(f'score : {score}')"
      ],
      "metadata": {
        "id": "C98slvc-gaC4"
      },
      "execution_count": null,
      "outputs": []
    },
    {
      "cell_type": "markdown",
      "source": [
        "### Export predictions"
      ],
      "metadata": {
        "id": "7QERjRkThUsO"
      }
    },
    {
      "cell_type": "markdown",
      "source": [
        "Train the model in the whole"
      ],
      "metadata": {
        "id": "SydhJC6wxUet"
      }
    },
    {
      "cell_type": "code",
      "source": [
        "scaler = StandardScaler()\n",
        "scaler.fit(X)\n",
        "X_train = scaler.transform(X)\n",
        "\n",
        "classifier = LogisticRegression(random_state = 42)\n",
        "classifier.fit(X_train, y)"
      ],
      "metadata": {
        "id": "nwU52gZLxTjW"
      },
      "execution_count": null,
      "outputs": []
    },
    {
      "cell_type": "code",
      "source": [
        "submission_preds = classifier.predict(scaler.transform(testset))"
      ],
      "metadata": {
        "id": "XzW4zwZahY8d"
      },
      "execution_count": null,
      "outputs": []
    },
    {
      "cell_type": "code",
      "source": [
        "df = pd.DataFrame({\"PassengerId\": test_ids.values, \"Survived\": submission_preds})"
      ],
      "metadata": {
        "id": "FIgcUQaAjnCf"
      },
      "execution_count": null,
      "outputs": []
    },
    {
      "cell_type": "code",
      "source": [
        "df.to_csv(\"sub_preds_logistic.csv\", index = False)"
      ],
      "metadata": {
        "id": "e9UKnEEljpFc"
      },
      "execution_count": null,
      "outputs": []
    },
    {
      "cell_type": "markdown",
      "source": [
        "## RandomForest"
      ],
      "metadata": {
        "id": "IfgG-N5YseZe"
      }
    },
    {
      "cell_type": "markdown",
      "source": [
        "### Splitting data into training and test set"
      ],
      "metadata": {
        "id": "75CvzQ-4tclU"
      }
    },
    {
      "cell_type": "code",
      "source": [
        "X_train, X_test, y_train, y_test = train_test_split(X, y, test_size = 0.2, random_state = 42)"
      ],
      "metadata": {
        "id": "TsimCA5mteXZ"
      },
      "execution_count": null,
      "outputs": []
    },
    {
      "cell_type": "markdown",
      "source": [
        "### Feature scaling"
      ],
      "metadata": {
        "id": "cqVcco9OtnmV"
      }
    },
    {
      "cell_type": "code",
      "source": [
        "sc = StandardScaler()\n",
        "X_train = sc.fit_transform(X_train)\n",
        "X_test = sc.transform(X_test)"
      ],
      "metadata": {
        "id": "EU964tlQtozM"
      },
      "execution_count": null,
      "outputs": []
    },
    {
      "cell_type": "markdown",
      "source": [
        "### Training the model"
      ],
      "metadata": {
        "id": "vhvDDrg5tE-d"
      }
    },
    {
      "cell_type": "code",
      "source": [
        "classifier = RandomForestClassifier(n_estimators = 20, criterion = 'entropy', random_state = 42)\n",
        "classifier.fit(X_train, y_train)"
      ],
      "metadata": {
        "id": "8x05MQoyspMX"
      },
      "execution_count": null,
      "outputs": []
    },
    {
      "cell_type": "markdown",
      "source": [
        "### Evaluate the model on the test set"
      ],
      "metadata": {
        "id": "k440pxnktzx-"
      }
    },
    {
      "cell_type": "markdown",
      "source": [
        "making predections"
      ],
      "metadata": {
        "id": "UvTX9vfvuEOf"
      }
    },
    {
      "cell_type": "code",
      "source": [
        "y_pred = classifier.predict(X_test)"
      ],
      "metadata": {
        "id": "5ncoSaUSuFtq"
      },
      "execution_count": null,
      "outputs": []
    },
    {
      "cell_type": "markdown",
      "source": [
        "Making the Confusion Matrix"
      ],
      "metadata": {
        "id": "DCrlchKMt6-b"
      }
    },
    {
      "cell_type": "code",
      "source": [
        "cm = confusion_matrix(y_test, y_pred)\n",
        "print(cm)\n",
        "accuracy_score(y_test, y_pred)"
      ],
      "metadata": {
        "id": "BMDvORt5t0UD"
      },
      "execution_count": null,
      "outputs": []
    },
    {
      "cell_type": "markdown",
      "source": [
        "Calculating the score"
      ],
      "metadata": {
        "id": "bNMefj4_uL-Q"
      }
    },
    {
      "cell_type": "code",
      "source": [
        "score = accuracy_score(y_pred, y_test)\n",
        "print(f'score : {score}')"
      ],
      "metadata": {
        "id": "GVwBKbXouQcn"
      },
      "execution_count": null,
      "outputs": []
    },
    {
      "cell_type": "markdown",
      "source": [
        "### Export predictions"
      ],
      "metadata": {
        "id": "NzcW86zNus3Q"
      }
    },
    {
      "cell_type": "markdown",
      "source": [
        "Train the model in the whole dataset"
      ],
      "metadata": {
        "id": "pua7QXKLy5Qq"
      }
    },
    {
      "cell_type": "code",
      "source": [
        "scaler = StandardScaler()\n",
        "scaler.fit(X)\n",
        "X_train = scaler.transform(X)\n",
        "\n",
        "classifier = LogisticRegression(random_state = 42)\n",
        "classifier.fit(X_train, y)"
      ],
      "metadata": {
        "id": "UNBukgsdy64S"
      },
      "execution_count": null,
      "outputs": []
    },
    {
      "cell_type": "code",
      "source": [
        "submission_preds = classifier.predict(scaler.transform(testset))"
      ],
      "metadata": {
        "id": "1USdO_fqutcS"
      },
      "execution_count": null,
      "outputs": []
    },
    {
      "cell_type": "code",
      "source": [
        "df = pd.DataFrame({\"PassengerId\": test_ids.values, \"Survived\": submission_preds})"
      ],
      "metadata": {
        "id": "FIbVk1eKuwCT"
      },
      "execution_count": null,
      "outputs": []
    },
    {
      "cell_type": "code",
      "source": [
        "df.to_csv(\"sub_preds_random_forest.csv\", index = False)"
      ],
      "metadata": {
        "id": "gdlbYkIruwQD"
      },
      "execution_count": null,
      "outputs": []
    }
  ]
}