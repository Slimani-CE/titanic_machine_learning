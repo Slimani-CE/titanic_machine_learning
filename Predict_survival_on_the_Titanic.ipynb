{
  "nbformat": 4,
  "nbformat_minor": 0,
  "metadata": {
    "colab": {
      "provenance": [],
      "collapsed_sections": [
        "xYJTuWHHvoTn",
        "Qf76CuyrvxL7",
        "KszHoDrNTj04",
        "Sk-yKToSYoEq",
        "DFXh5lMmdN8q",
        "IfgG-N5YseZe",
        "QfcllAkSPeUf"
      ],
      "private_outputs": true,
      "authorship_tag": "ABX9TyMZD35hVkjro43+eGPGTEHw",
      "include_colab_link": true
    },
    "kernelspec": {
      "name": "python3",
      "display_name": "Python 3"
    },
    "language_info": {
      "name": "python"
    },
    "accelerator": "GPU",
    "gpuClass": "standard"
  },
  "cells": [
    {
      "cell_type": "markdown",
      "metadata": {
        "id": "view-in-github",
        "colab_type": "text"
      },
      "source": [
        "<a href=\"https://colab.research.google.com/github/Slimani-CE/titanic_machine_learning/blob/main/Predict_survival_on_the_Titanic.ipynb\" target=\"_parent\"><img src=\"https://colab.research.google.com/assets/colab-badge.svg\" alt=\"Open In Colab\"/></a>"
      ]
    },
    {
      "cell_type": "code",
      "source": [
        "!git clone https://github.com/Slimani-CE/titanic_machine_learning"
      ],
      "metadata": {
        "id": "REng2G-tc17y"
      },
      "execution_count": null,
      "outputs": []
    },
    {
      "cell_type": "markdown",
      "source": [
        "## Importing the libraries"
      ],
      "metadata": {
        "id": "xYJTuWHHvoTn"
      }
    },
    {
      "cell_type": "code",
      "execution_count": null,
      "metadata": {
        "id": "y8BnBhcVvchd"
      },
      "outputs": [],
      "source": [
        "import numpy as np\n",
        "import matplotlib.pyplot as plt\n",
        "import seaborn as sb\n",
        "import pandas as pd\n",
        "from sklearn.preprocessing import StandardScaler\n",
        "from sklearn.model_selection import train_test_split\n",
        "from sklearn.linear_model import LogisticRegression\n",
        "from sklearn.metrics import confusion_matrix, accuracy_score"
      ]
    },
    {
      "cell_type": "markdown",
      "source": [
        "## Importing the Dataset"
      ],
      "metadata": {
        "id": "Qf76CuyrvxL7"
      }
    },
    {
      "cell_type": "code",
      "source": [
        "dataset = pd.read_csv('train.csv')\n",
        "testset = pd.read_csv('test.csv')\n",
        "test_ids = testset['PassengerId']"
      ],
      "metadata": {
        "id": "_2DdB3lDvzbs"
      },
      "execution_count": null,
      "outputs": []
    },
    {
      "cell_type": "code",
      "source": [
        "testset.info()"
      ],
      "metadata": {
        "id": "YNy0ASc-uyph"
      },
      "execution_count": null,
      "outputs": []
    },
    {
      "cell_type": "code",
      "source": [
        "dataset"
      ],
      "metadata": {
        "id": "QKqlfcYW9gJV"
      },
      "execution_count": null,
      "outputs": []
    },
    {
      "cell_type": "code",
      "source": [
        "dataset.shape"
      ],
      "metadata": {
        "id": "KwaWAc3BEOkh"
      },
      "execution_count": null,
      "outputs": []
    },
    {
      "cell_type": "markdown",
      "source": [
        "## Data analyse"
      ],
      "metadata": {
        "id": "MIr11-TfFEp6"
      }
    },
    {
      "cell_type": "code",
      "source": [
        "# Categorical & Numerical columns\n",
        "all_cols = dataset.columns.tolist()\n",
        "cat_cols = dataset.select_dtypes(include = ['object']).columns.tolist()\n",
        "num_cols = [col for col in all_cols if col not in cat_cols]\n",
        "print(f'All columns        : {all_cols}')\n",
        "print(f'Categorical columns: {cat_cols}')\n",
        "print(f'Numerical Columns  : {num_cols}')"
      ],
      "metadata": {
        "id": "p2lmUJRtFCt9"
      },
      "execution_count": null,
      "outputs": []
    },
    {
      "cell_type": "code",
      "source": [
        "# sb.pairplot(data = dataset, hue = 'Survived')"
      ],
      "metadata": {
        "id": "Df0bSleMFYLE"
      },
      "execution_count": null,
      "outputs": []
    },
    {
      "cell_type": "code",
      "source": [
        "# sb.heatmap(dataset.corr() ,annot = True)"
      ],
      "metadata": {
        "id": "jnnWktmlJBpV"
      },
      "execution_count": null,
      "outputs": []
    },
    {
      "cell_type": "markdown",
      "source": [
        "### Number of classes in each categorical column"
      ],
      "metadata": {
        "id": "hTCxRlfMOH86"
      }
    },
    {
      "cell_type": "code",
      "source": [
        "# Number of available values and Number of classes in each column\n",
        "for col in all_cols:\n",
        "  all_col_count = dataset[col].shape[0]\n",
        "  available_count = dataset[col].count()\n",
        "  classes_number = len(dataset[col].unique())\n",
        "  print(f'Column name : {col:15} | Column length: {all_col_count} | Available values : {available_count} | Number of classes : {classes_number - (1 if all_col_count - available_count != 0 else 0)}')"
      ],
      "metadata": {
        "id": "cKg45s-ZF7um"
      },
      "execution_count": null,
      "outputs": []
    },
    {
      "cell_type": "code",
      "source": [
        "# Number of values of each category in 'Embarked' column\n",
        "dataset['Parch'].value_counts()"
      ],
      "metadata": {
        "id": "VbiFWEqiWEcQ"
      },
      "execution_count": null,
      "outputs": []
    },
    {
      "cell_type": "code",
      "source": [
        "cols_to_drop = ['Name', 'PassengerId', 'Ticket', 'Cabin', 'Embarked']"
      ],
      "metadata": {
        "id": "sj2hTq3mPUIy"
      },
      "execution_count": null,
      "outputs": []
    },
    {
      "cell_type": "markdown",
      "source": [
        "## Data preprocessing"
      ],
      "metadata": {
        "id": "wehGkaENS6EX"
      }
    },
    {
      "cell_type": "markdown",
      "source": [
        "### Drop columns"
      ],
      "metadata": {
        "id": "hR7jP86AThGQ"
      }
    },
    {
      "cell_type": "code",
      "source": [
        "print(f'Columns to drop: {cols_to_drop}')"
      ],
      "metadata": {
        "id": "zZgppMIrT69L"
      },
      "execution_count": null,
      "outputs": []
    },
    {
      "cell_type": "code",
      "source": [
        "dataset = dataset.drop(columns = cols_to_drop, axis = 1)\n",
        "testset = testset.drop(columns = cols_to_drop, axis = 1)"
      ],
      "metadata": {
        "id": "5Ea2kqrqRi3Q"
      },
      "execution_count": null,
      "outputs": []
    },
    {
      "cell_type": "markdown",
      "source": [
        "### Taking care of missing values"
      ],
      "metadata": {
        "id": "KszHoDrNTj04"
      }
    },
    {
      "cell_type": "code",
      "source": [
        "dataset.info()"
      ],
      "metadata": {
        "id": "eaYwDg7tTdsq"
      },
      "execution_count": null,
      "outputs": []
    },
    {
      "cell_type": "code",
      "source": [
        "testset.info()"
      ],
      "metadata": {
        "id": "OzY2ZS9mSLNC"
      },
      "execution_count": null,
      "outputs": []
    },
    {
      "cell_type": "code",
      "source": [
        "# Drop the 'Age' rows with missing values\n",
        "# dataset.dropna(inplace = True)\n",
        "\n",
        "mean = (dataset['Age'].mean() + testset['Age'].mean()) / 2\n",
        "most_repeated_values = dataset['Age'].value_counts().index.tolist()[:2]\n",
        "\n",
        "# The same for the testset\n",
        "# mean = testset['Age'].mean()\n",
        "# te.stset['Age'] = testset['Age'].fillna(mean)\n",
        "# testset['Fare'] = testset['Fare'].fillna(testset['Fare'].mean())\n",
        "\n",
        "dataset.interpolate(method = 'linear', inplace = True)\n",
        "testset.interpolate(method = 'linear', inplace = True)"
      ],
      "metadata": {
        "id": "XYFb3T3ATql3"
      },
      "execution_count": null,
      "outputs": []
    },
    {
      "cell_type": "code",
      "source": [
        "most_repeated_values"
      ],
      "metadata": {
        "id": "9wPZ0V6RvRiH"
      },
      "execution_count": null,
      "outputs": []
    },
    {
      "cell_type": "code",
      "source": [
        "dataset.info()"
      ],
      "metadata": {
        "id": "27FH4qGdUhC7"
      },
      "execution_count": null,
      "outputs": []
    },
    {
      "cell_type": "code",
      "source": [
        "testset.info()"
      ],
      "metadata": {
        "id": "vldqhi1Cvl8B"
      },
      "execution_count": null,
      "outputs": []
    },
    {
      "cell_type": "markdown",
      "source": [
        "### Encoding categorical values"
      ],
      "metadata": {
        "id": "EOwBLzYWYU2r"
      }
    },
    {
      "cell_type": "code",
      "source": [
        "\n",
        "dataset = pd.get_dummies(data = dataset)\n",
        "testset = pd.get_dummies(data = testset)"
      ],
      "metadata": {
        "id": "gGQVBx0vX4qx"
      },
      "execution_count": null,
      "outputs": []
    },
    {
      "cell_type": "code",
      "source": [
        "dataset.head()"
      ],
      "metadata": {
        "id": "R-soHRdTWVUh"
      },
      "execution_count": null,
      "outputs": []
    },
    {
      "cell_type": "markdown",
      "source": [
        "### Split feature matrix and target column"
      ],
      "metadata": {
        "id": "Sk-yKToSYoEq"
      }
    },
    {
      "cell_type": "code",
      "source": [
        "X = dataset.drop(columns = ['Survived'], axis = 1)\n",
        "y = dataset['Survived']"
      ],
      "metadata": {
        "id": "_IxCF-D8YfFJ"
      },
      "execution_count": null,
      "outputs": []
    },
    {
      "cell_type": "markdown",
      "source": [
        "## Logistic regression"
      ],
      "metadata": {
        "id": "DFXh5lMmdN8q"
      }
    },
    {
      "cell_type": "markdown",
      "source": [
        "### Splitting data into training and test set"
      ],
      "metadata": {
        "id": "d41OlbQLd3H-"
      }
    },
    {
      "cell_type": "code",
      "source": [
        "X_train, X_test, y_train, y_test = train_test_split(X, y, stratify = y, test_size = 0.2, random_state = 42)"
      ],
      "metadata": {
        "id": "l1tNqNykd2hc"
      },
      "execution_count": null,
      "outputs": []
    },
    {
      "cell_type": "markdown",
      "source": [
        "### Feature scaling"
      ],
      "metadata": {
        "id": "M2iaO6UqdRkv"
      }
    },
    {
      "cell_type": "code",
      "source": [
        "scaler = StandardScaler()\n",
        "scaler.fit(X_train)\n",
        "X_train = scaler.transform(X_train)\n",
        "X_test = scaler.transform(X_test)"
      ],
      "metadata": {
        "id": "KCwfFgs1ZjN_"
      },
      "execution_count": null,
      "outputs": []
    },
    {
      "cell_type": "markdown",
      "source": [
        "### Training the Logistic Regression model on the Training set"
      ],
      "metadata": {
        "id": "p4TomOAIe6l-"
      }
    },
    {
      "cell_type": "code",
      "source": [
        "classifier = LogisticRegression(random_state = 42)\n",
        "classifier.fit(X_train, y_train)"
      ],
      "metadata": {
        "id": "h7KeaGGOfB0C"
      },
      "execution_count": null,
      "outputs": []
    },
    {
      "cell_type": "markdown",
      "source": [
        "### Evaluate the model on the test set"
      ],
      "metadata": {
        "id": "CfldtfxcfudV"
      }
    },
    {
      "cell_type": "markdown",
      "source": [
        "making predections"
      ],
      "metadata": {
        "id": "mR-rt_0ngDIq"
      }
    },
    {
      "cell_type": "code",
      "source": [
        "y_pred = classifier.predict(X_test)"
      ],
      "metadata": {
        "id": "K4sla8nSgGzD"
      },
      "execution_count": null,
      "outputs": []
    },
    {
      "cell_type": "markdown",
      "source": [
        "Making the Confusion Matrix"
      ],
      "metadata": {
        "id": "8vBh0DqCf6YZ"
      }
    },
    {
      "cell_type": "code",
      "source": [
        "cm = confusion_matrix(y_test, y_pred)\n",
        "print(cm)"
      ],
      "metadata": {
        "id": "uloTABmafxuy"
      },
      "execution_count": null,
      "outputs": []
    },
    {
      "cell_type": "markdown",
      "source": [
        "Calculating the score"
      ],
      "metadata": {
        "id": "Fu7gJprHgh6u"
      }
    },
    {
      "cell_type": "code",
      "source": [
        "score = accuracy_score(y_pred, y_test)\n",
        "print(f'score : {score}')"
      ],
      "metadata": {
        "id": "C98slvc-gaC4"
      },
      "execution_count": null,
      "outputs": []
    },
    {
      "cell_type": "markdown",
      "source": [
        "### Export predictions"
      ],
      "metadata": {
        "id": "7QERjRkThUsO"
      }
    },
    {
      "cell_type": "markdown",
      "source": [
        "Train the model in the whole"
      ],
      "metadata": {
        "id": "SydhJC6wxUet"
      }
    },
    {
      "cell_type": "code",
      "source": [
        "scaler = StandardScaler()\n",
        "scaler.fit(X)\n",
        "X_train = scaler.transform(X)\n",
        "\n",
        "classifier = LogisticRegression(random_state = 42)\n",
        "classifier.fit(X_train, y)"
      ],
      "metadata": {
        "id": "nwU52gZLxTjW"
      },
      "execution_count": null,
      "outputs": []
    },
    {
      "cell_type": "code",
      "source": [
        "submission_preds = classifier.predict(scaler.transform(testset))"
      ],
      "metadata": {
        "id": "XzW4zwZahY8d"
      },
      "execution_count": null,
      "outputs": []
    },
    {
      "cell_type": "code",
      "source": [
        "df = pd.DataFrame({\"PassengerId\": test_ids.values, \"Survived\": submission_preds})"
      ],
      "metadata": {
        "id": "FIgcUQaAjnCf"
      },
      "execution_count": null,
      "outputs": []
    },
    {
      "cell_type": "code",
      "source": [
        "df.to_csv(\"sub_preds_logistic.csv\", index = False)"
      ],
      "metadata": {
        "id": "e9UKnEEljpFc"
      },
      "execution_count": null,
      "outputs": []
    },
    {
      "cell_type": "markdown",
      "source": [
        "## RandomForest"
      ],
      "metadata": {
        "id": "IfgG-N5YseZe"
      }
    },
    {
      "cell_type": "markdown",
      "source": [
        "### Splitting data into training and test set"
      ],
      "metadata": {
        "id": "75CvzQ-4tclU"
      }
    },
    {
      "cell_type": "code",
      "source": [
        "X_train, X_test, y_train, y_test = train_test_split(X, y, stratify = y, test_size = 0.2, random_state = 42)"
      ],
      "metadata": {
        "id": "TsimCA5mteXZ"
      },
      "execution_count": null,
      "outputs": []
    },
    {
      "cell_type": "markdown",
      "source": [
        "### Feature scaling"
      ],
      "metadata": {
        "id": "cqVcco9OtnmV"
      }
    },
    {
      "cell_type": "code",
      "source": [
        "sc = StandardScaler()\n",
        "X_train = sc.fit_transform(X_train)\n",
        "X_test = sc.transform(X_test)"
      ],
      "metadata": {
        "id": "EU964tlQtozM"
      },
      "execution_count": null,
      "outputs": []
    },
    {
      "cell_type": "markdown",
      "source": [
        "### Calculate the best parameters for Random Forest Classifer"
      ],
      "metadata": {
        "id": "cPWM9eWY49LP"
      }
    },
    {
      "cell_type": "code",
      "source": [
        "from sklearn.ensemble import RandomForestClassifier\n",
        "from sklearn.model_selection import GridSearchCV\n",
        "\n",
        "# Define the parameter grid to search over\n",
        "param_grid = {\n",
        "    'n_estimators': [5, 10, 15, 20, 25, 30],\n",
        "    'max_depth': [None, 5, 10, 20],\n",
        "    'min_samples_split': [3],\n",
        "    'min_samples_leaf': [1, 2, 3]\n",
        "}\n",
        "\n",
        "# Create a random forest classifier object\n",
        "rf = RandomForestClassifier()\n",
        "\n",
        "# Create a grid search object\n",
        "grid_search = GridSearchCV(estimator=rf, param_grid=param_grid, cv=5)\n",
        "\n",
        "# Fit the grid search object to the data\n",
        "grid_search.fit(X_train, y_train)\n",
        "\n",
        "# Print the best hyperparameters\n",
        "print(grid_search.best_params_)"
      ],
      "metadata": {
        "id": "Eqwnavww48mr"
      },
      "execution_count": null,
      "outputs": []
    },
    {
      "cell_type": "markdown",
      "source": [
        "### Training the model"
      ],
      "metadata": {
        "id": "vhvDDrg5tE-d"
      }
    },
    {
      "cell_type": "code",
      "source": [
        "classifier = RandomForestClassifier(max_depth = None, min_samples_leaf = 2, min_samples_split = 3, n_estimators = 30, criterion = 'entropy', random_state = 42)\n",
        "classifier.fit(X_train, y_train)"
      ],
      "metadata": {
        "id": "8x05MQoyspMX"
      },
      "execution_count": null,
      "outputs": []
    },
    {
      "cell_type": "markdown",
      "source": [
        "### Evaluate the model on the test set"
      ],
      "metadata": {
        "id": "k440pxnktzx-"
      }
    },
    {
      "cell_type": "markdown",
      "source": [
        "making predections"
      ],
      "metadata": {
        "id": "UvTX9vfvuEOf"
      }
    },
    {
      "cell_type": "code",
      "source": [
        "y_pred = classifier.predict(X_test)"
      ],
      "metadata": {
        "id": "5ncoSaUSuFtq"
      },
      "execution_count": null,
      "outputs": []
    },
    {
      "cell_type": "markdown",
      "source": [
        "Making the Confusion Matrix"
      ],
      "metadata": {
        "id": "DCrlchKMt6-b"
      }
    },
    {
      "cell_type": "code",
      "source": [
        "cm = confusion_matrix(y_test, y_pred)\n",
        "print(cm)"
      ],
      "metadata": {
        "id": "BMDvORt5t0UD"
      },
      "execution_count": null,
      "outputs": []
    },
    {
      "cell_type": "markdown",
      "source": [
        "Calculating the score"
      ],
      "metadata": {
        "id": "bNMefj4_uL-Q"
      }
    },
    {
      "cell_type": "code",
      "source": [
        "score = accuracy_score(y_test, y_pred)\n",
        "print(f'score : {score}')"
      ],
      "metadata": {
        "id": "GVwBKbXouQcn"
      },
      "execution_count": null,
      "outputs": []
    },
    {
      "cell_type": "markdown",
      "source": [
        "### Export predictions"
      ],
      "metadata": {
        "id": "NzcW86zNus3Q"
      }
    },
    {
      "cell_type": "markdown",
      "source": [
        "Train the model in the whole dataset"
      ],
      "metadata": {
        "id": "pua7QXKLy5Qq"
      }
    },
    {
      "cell_type": "code",
      "source": [
        "classifier = RandomForestClassifier(n_estimators = 20, criterion = 'entropy', random_state = 42)\n",
        "classifier.fit(X, y)"
      ],
      "metadata": {
        "id": "UNBukgsdy64S"
      },
      "execution_count": null,
      "outputs": []
    },
    {
      "cell_type": "markdown",
      "source": [
        "Predict submission test"
      ],
      "metadata": {
        "id": "qi3ea57yJlHD"
      }
    },
    {
      "cell_type": "code",
      "source": [
        "submission_preds = classifier.predict(scaler.transform(testset))"
      ],
      "metadata": {
        "id": "1USdO_fqutcS"
      },
      "execution_count": null,
      "outputs": []
    },
    {
      "cell_type": "markdown",
      "source": [
        "Create submission test dataframe"
      ],
      "metadata": {
        "id": "8Jw0XTBgJpZo"
      }
    },
    {
      "cell_type": "code",
      "source": [
        "df = pd.DataFrame({\"PassengerId\": test_ids.values, \"Survived\": submission_preds})"
      ],
      "metadata": {
        "id": "FIbVk1eKuwCT"
      },
      "execution_count": null,
      "outputs": []
    },
    {
      "cell_type": "markdown",
      "source": [
        "Export submission test file"
      ],
      "metadata": {
        "id": "Z7rvlryIJtpw"
      }
    },
    {
      "cell_type": "code",
      "source": [
        "df.to_csv(\"sub_preds_random_forest.csv\", index = False)"
      ],
      "metadata": {
        "id": "gdlbYkIruwQD"
      },
      "execution_count": null,
      "outputs": []
    },
    {
      "cell_type": "markdown",
      "source": [
        "## SVM"
      ],
      "metadata": {
        "id": "vx2QIUOlxSY_"
      }
    },
    {
      "cell_type": "markdown",
      "source": [
        "### Splitting data into training and test set"
      ],
      "metadata": {
        "id": "qBt0Fu-VKP0r"
      }
    },
    {
      "cell_type": "code",
      "source": [
        "X_train, X_test, y_train, y_test = train_test_split(X, y, stratify = y, test_size = 0.2, random_state = 42)"
      ],
      "metadata": {
        "id": "vO8HlLnpKP01"
      },
      "execution_count": null,
      "outputs": []
    },
    {
      "cell_type": "markdown",
      "source": [
        "### Feature scaling"
      ],
      "metadata": {
        "id": "SAAlTeOqKP01"
      }
    },
    {
      "cell_type": "code",
      "source": [
        "sc = StandardScaler()\n",
        "X_train = sc.fit_transform(X_train)\n",
        "X_test = sc.transform(X_test)"
      ],
      "metadata": {
        "id": "JjMull4jKP01"
      },
      "execution_count": null,
      "outputs": []
    },
    {
      "cell_type": "markdown",
      "source": [
        "### Training the model"
      ],
      "metadata": {
        "id": "Un84nWLPJ6MJ"
      }
    },
    {
      "cell_type": "code",
      "source": [
        "from sklearn.svm import SVC\n",
        "classifier = SVC(kernel = 'rbf', random_state = 42)\n",
        "classifier.fit(X_train, y_train)"
      ],
      "metadata": {
        "id": "v9XBVlE4xVq4"
      },
      "execution_count": null,
      "outputs": []
    },
    {
      "cell_type": "markdown",
      "source": [
        "### Evaluate the model on the test set"
      ],
      "metadata": {
        "id": "cUUJLcObKdPM"
      }
    },
    {
      "cell_type": "markdown",
      "source": [
        "making predections"
      ],
      "metadata": {
        "id": "HvQ3JuuHKdPN"
      }
    },
    {
      "cell_type": "code",
      "source": [
        "y_pred = classifier.predict(X_test)"
      ],
      "metadata": {
        "id": "2WgELiW1KdPN"
      },
      "execution_count": null,
      "outputs": []
    },
    {
      "cell_type": "markdown",
      "source": [
        "Making the Confusion Matrix"
      ],
      "metadata": {
        "id": "QSeFEl72KdPN"
      }
    },
    {
      "cell_type": "code",
      "source": [
        "cm = confusion_matrix(y_test, y_pred)\n",
        "print(cm)"
      ],
      "metadata": {
        "id": "nk2ukZgKKdPO"
      },
      "execution_count": null,
      "outputs": []
    },
    {
      "cell_type": "markdown",
      "source": [
        "Calculating the score"
      ],
      "metadata": {
        "id": "RFxpyTDqKdPO"
      }
    },
    {
      "cell_type": "code",
      "source": [
        "score = accuracy_score(y_test, y_pred)\n",
        "print(f'score : {score}')"
      ],
      "metadata": {
        "id": "ZubCH3npKdPO"
      },
      "execution_count": null,
      "outputs": []
    },
    {
      "cell_type": "markdown",
      "source": [
        "### Export predictions"
      ],
      "metadata": {
        "id": "TmklLu9qKdPP"
      }
    },
    {
      "cell_type": "markdown",
      "source": [
        "Train the model in the whole dataset"
      ],
      "metadata": {
        "id": "GVdGIk3lKdPP"
      }
    },
    {
      "cell_type": "code",
      "source": [
        "classifier = SVC(kernel = 'rbf', random_state = 42)\n",
        "classifier.fit(X, y)"
      ],
      "metadata": {
        "id": "iJYpeSHwKdPP"
      },
      "execution_count": null,
      "outputs": []
    },
    {
      "cell_type": "markdown",
      "source": [
        "Predict submission test"
      ],
      "metadata": {
        "id": "fatqc_yBKdPP"
      }
    },
    {
      "cell_type": "code",
      "source": [
        "submission_preds = classifier.predict(scaler.transform(testset))"
      ],
      "metadata": {
        "id": "foRHUCHLKdPP"
      },
      "execution_count": null,
      "outputs": []
    },
    {
      "cell_type": "markdown",
      "source": [
        "Create submission test dataframe"
      ],
      "metadata": {
        "id": "8FdMAvmdKdPQ"
      }
    },
    {
      "cell_type": "code",
      "source": [
        "df = pd.DataFrame({\"PassengerId\": test_ids.values, \"Survived\": submission_preds})"
      ],
      "metadata": {
        "id": "LotfrQFGKdPQ"
      },
      "execution_count": null,
      "outputs": []
    },
    {
      "cell_type": "markdown",
      "source": [
        "Export submission test file"
      ],
      "metadata": {
        "id": "Drws5z4qKdPQ"
      }
    },
    {
      "cell_type": "code",
      "source": [
        "df.to_csv(\"sub_preds_svc.csv\", index = False)"
      ],
      "metadata": {
        "id": "AM9S8aezKdPQ"
      },
      "execution_count": null,
      "outputs": []
    },
    {
      "cell_type": "markdown",
      "source": [
        "## XGBoost"
      ],
      "metadata": {
        "id": "QfcllAkSPeUf"
      }
    },
    {
      "cell_type": "markdown",
      "source": [
        "### Splitting data into training and test set"
      ],
      "metadata": {
        "id": "E174PWjMPeUo"
      }
    },
    {
      "cell_type": "code",
      "source": [
        "X_train, X_test, y_train, y_test = train_test_split(X, y, stratify = y, test_size = 0.2, random_state = 42)"
      ],
      "metadata": {
        "id": "ymh5wp5-PeUo"
      },
      "execution_count": null,
      "outputs": []
    },
    {
      "cell_type": "markdown",
      "source": [
        "### Training the model"
      ],
      "metadata": {
        "id": "RmGTp_OuPeUo"
      }
    },
    {
      "cell_type": "code",
      "source": [
        "from xgboost import XGBClassifier\n",
        "classifier = XGBClassifier()\n",
        "classifier.fit(X_train, y_train)"
      ],
      "metadata": {
        "id": "DgN8hrXcPeUo"
      },
      "execution_count": null,
      "outputs": []
    },
    {
      "cell_type": "markdown",
      "source": [
        "### Evaluate the model on the test set"
      ],
      "metadata": {
        "id": "5RHBps_-PeUo"
      }
    },
    {
      "cell_type": "markdown",
      "source": [
        "making predections"
      ],
      "metadata": {
        "id": "yZtZBqlDPeUp"
      }
    },
    {
      "cell_type": "code",
      "source": [
        "y_pred = classifier.predict(X_test)"
      ],
      "metadata": {
        "id": "9YYRBXdlPeUp"
      },
      "execution_count": null,
      "outputs": []
    },
    {
      "cell_type": "markdown",
      "source": [
        "Making the Confusion Matrix"
      ],
      "metadata": {
        "id": "NxxCxQ-pPeUp"
      }
    },
    {
      "cell_type": "code",
      "source": [
        "cm = confusion_matrix(y_test, y_pred)\n",
        "print(cm)"
      ],
      "metadata": {
        "id": "sRAhLA1ZPeUp"
      },
      "execution_count": null,
      "outputs": []
    },
    {
      "cell_type": "markdown",
      "source": [
        "Calculating the score"
      ],
      "metadata": {
        "id": "Wf6LVWpmPeUp"
      }
    },
    {
      "cell_type": "code",
      "source": [
        "score = accuracy_score(y_test, y_pred)\n",
        "print(f'score : {score}')"
      ],
      "metadata": {
        "id": "W67tK2GbPeUp"
      },
      "execution_count": null,
      "outputs": []
    },
    {
      "cell_type": "markdown",
      "source": [
        "### Export predictions"
      ],
      "metadata": {
        "id": "M-yzxW-8PeUp"
      }
    },
    {
      "cell_type": "markdown",
      "source": [
        "Train the model in the whole dataset"
      ],
      "metadata": {
        "id": "i9r7E2BUPeUq"
      }
    },
    {
      "cell_type": "code",
      "source": [
        "classifier = XGBClassifier()\n",
        "classifier.fit(X, y)"
      ],
      "metadata": {
        "id": "X1lTj3KMPeUq"
      },
      "execution_count": null,
      "outputs": []
    },
    {
      "cell_type": "markdown",
      "source": [
        "Predict submission test"
      ],
      "metadata": {
        "id": "aKZAPzngPeUq"
      }
    },
    {
      "cell_type": "code",
      "source": [
        "submission_preds = classifier.predict(testset)"
      ],
      "metadata": {
        "id": "DAqNp3SGPeUq"
      },
      "execution_count": null,
      "outputs": []
    },
    {
      "cell_type": "markdown",
      "source": [
        "Create submission test dataframe"
      ],
      "metadata": {
        "id": "tk04JuNDPeUq"
      }
    },
    {
      "cell_type": "code",
      "source": [
        "df = pd.DataFrame({\"PassengerId\": test_ids.values, \"Survived\": submission_preds})"
      ],
      "metadata": {
        "id": "dLJMEvr3PeUq"
      },
      "execution_count": null,
      "outputs": []
    },
    {
      "cell_type": "markdown",
      "source": [
        "Export submission test file"
      ],
      "metadata": {
        "id": "H6DnIDnPPeUq"
      }
    },
    {
      "cell_type": "code",
      "source": [
        "df.to_csv(\"sub_preds_xgboost.csv\", index = False)"
      ],
      "metadata": {
        "id": "XLKi16vXPeUr"
      },
      "execution_count": null,
      "outputs": []
    },
    {
      "cell_type": "markdown",
      "source": [
        "## Neural Networks"
      ],
      "metadata": {
        "id": "E37KhG8wawad"
      }
    },
    {
      "cell_type": "markdown",
      "source": [
        "### Splitting data into training and test set"
      ],
      "metadata": {
        "id": "ctmb8iujawae"
      }
    },
    {
      "cell_type": "code",
      "source": [
        "X_train, X_test, y_train, y_test = train_test_split(X, y, stratify = y, test_size = 0.2, random_state = 42)"
      ],
      "metadata": {
        "id": "reNZxAfLawaf"
      },
      "execution_count": null,
      "outputs": []
    },
    {
      "cell_type": "markdown",
      "source": [
        "### Feature scaling"
      ],
      "metadata": {
        "id": "tw5h6l3EbCdX"
      }
    },
    {
      "cell_type": "code",
      "source": [
        "sc = StandardScaler()\n",
        "sc.fit(X_train)\n",
        "X_train = sc.transform(X_train)\n",
        "X_test = sc.transform(X_test)"
      ],
      "metadata": {
        "id": "XUTQXh9vbCdY"
      },
      "execution_count": null,
      "outputs": []
    },
    {
      "cell_type": "markdown",
      "source": [
        "### Training the model"
      ],
      "metadata": {
        "id": "uBdwsPC4awag"
      }
    },
    {
      "cell_type": "code",
      "source": [
        "from tensorflow.keras.models import Sequential\n",
        "from tensorflow.keras.layers import Dense\n",
        "from tensorflow.keras.losses import BinaryCrossentropy\n",
        "from tensorflow.keras.optimizers import Adam\n",
        "import tensorflow as tf\n",
        "model = Sequential([\n",
        "    Dense(units = 6, activation = 'sigmoid'),\n",
        "    Dense(units = 3, activation = 'sigmoid'),\n",
        "    Dense(units = 1 , activation = 'linear')\n",
        "])\n",
        "\n",
        "model.compile(optimizer = Adam(learning_rate = 1e-1), loss = BinaryCrossentropy(from_logits = True))\n",
        "\n",
        "epochs = 1500\n",
        "batch_size = 50\n",
        "\n",
        "model.fit(X_train, y_train, epochs = epochs, batch_size = batch_size)"
      ],
      "metadata": {
        "id": "MpyDvX5Hawah"
      },
      "execution_count": null,
      "outputs": []
    },
    {
      "cell_type": "markdown",
      "source": [
        "### Evaluate the model on the test set"
      ],
      "metadata": {
        "id": "m6QKPFdaawai"
      }
    },
    {
      "cell_type": "markdown",
      "source": [
        "making predections"
      ],
      "metadata": {
        "id": "SNFkDF7Oawaj"
      }
    },
    {
      "cell_type": "code",
      "source": [
        "y_pred = tf.nn.sigmoid(model(X_test)) > 0.5"
      ],
      "metadata": {
        "id": "LddgNTzBawak"
      },
      "execution_count": null,
      "outputs": []
    },
    {
      "cell_type": "markdown",
      "source": [
        "Making the Confusion Matrix"
      ],
      "metadata": {
        "id": "pwnpegs_awak"
      }
    },
    {
      "cell_type": "code",
      "source": [
        "cm = confusion_matrix(y_test, y_pred)\n",
        "print(cm)"
      ],
      "metadata": {
        "id": "I9f-0J-Eawal"
      },
      "execution_count": null,
      "outputs": []
    },
    {
      "cell_type": "markdown",
      "source": [
        "Calculating the score"
      ],
      "metadata": {
        "id": "5Wc-cOdaawam"
      }
    },
    {
      "cell_type": "code",
      "source": [
        "score = accuracy_score(y_test, y_pred)\n",
        "print(f'score : {score}')"
      ],
      "metadata": {
        "id": "tN2piyKNawan"
      },
      "execution_count": null,
      "outputs": []
    },
    {
      "cell_type": "markdown",
      "source": [
        "### Export predictions"
      ],
      "metadata": {
        "id": "eYyjc4Ghawan"
      }
    },
    {
      "cell_type": "markdown",
      "source": [
        "Train the model in the whole dataset"
      ],
      "metadata": {
        "id": "Z0Fj5kCeawao"
      }
    },
    {
      "cell_type": "code",
      "source": [
        "model.fit(X, y, epochs = epochs, batch_size = batch_size)"
      ],
      "metadata": {
        "id": "el_W1Dgjawao"
      },
      "execution_count": null,
      "outputs": []
    },
    {
      "cell_type": "markdown",
      "source": [
        "Predict submission test"
      ],
      "metadata": {
        "id": "iRwyqEHAawap"
      }
    },
    {
      "cell_type": "code",
      "source": [
        "submission_preds = model.predict(testset) > 0.5\n",
        "submission_preds = submission_preds.reshape(-1,)\n",
        "submission_preds = [1 if pred else 0 for pred in submission_preds]"
      ],
      "metadata": {
        "id": "QMMed13Kawar"
      },
      "execution_count": null,
      "outputs": []
    },
    {
      "cell_type": "markdown",
      "source": [
        "Create submission test dataframe"
      ],
      "metadata": {
        "id": "p_fyLhcPawas"
      }
    },
    {
      "cell_type": "code",
      "source": [
        "df = pd.DataFrame({\"PassengerId\": test_ids.values, \"Survived\": submission_preds})"
      ],
      "metadata": {
        "id": "mjaVXVuCawat"
      },
      "execution_count": null,
      "outputs": []
    },
    {
      "cell_type": "markdown",
      "source": [
        "Export submission test file"
      ],
      "metadata": {
        "id": "MdcL-f3hawau"
      }
    },
    {
      "cell_type": "code",
      "source": [
        "df.to_csv(\"sub_preds_neural_networks.csv\", index = False)"
      ],
      "metadata": {
        "id": "1BoXURgQawau"
      },
      "execution_count": null,
      "outputs": []
    }
  ]
}